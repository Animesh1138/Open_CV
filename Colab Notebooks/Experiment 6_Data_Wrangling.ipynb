{
  "nbformat": 4,
  "nbformat_minor": 0,
  "metadata": {
    "kernelspec": {
      "display_name": "Python [conda env:machine_learning_cookbook]",
      "language": "python",
      "name": "conda-env-machine_learning_cookbook-py"
    },
    "language_info": {
      "codemirror_mode": {
        "name": "ipython",
        "version": 3
      },
      "file_extension": ".py",
      "mimetype": "text/x-python",
      "name": "python",
      "nbconvert_exporter": "python",
      "pygments_lexer": "ipython3",
      "version": "3.6.6"
    },
    "colab": {
      "name": " Experiment_6_Data Wrangling.ipynb",
      "provenance": [],
      "collapsed_sections": []
    }
  },
  "cells": [
    {
      "cell_type": "markdown",
      "metadata": {
        "id": "nrnDyaOyx6XQ"
      },
      "source": [
        "## Experiment 6\n",
        "---\n",
        "###**Aim:** To transform raw data to a clean and organized format ready for use.\n",
        "\n",
        "# Data Manipulation and Wrangling\n",
        "\n",
        "### 6.0 Introduction\n",
        "Data wrangling is a broad term used, often informally, to describe the process of transforming raw data to a clean and organized format ready for use.\n",
        "\n",
        "Data wrangling is the process of cleaning and unifying messy and complex data sets for easy access and analysis. This process typically includes manually converting and mapping data from one raw form into another format to allow for more convenient consumption and organization of the data.\n",
        "\n",
        "The most common data structure used to \"wrangle\" data is the data frame, which can be both intuitive and incredibly versatile. Data frames are tabular, meaning that they are based on rows and columns like you'd find in a spreadsheet.\n",
        "\n",
        "### 6.1 Creating a Data Frame"
      ]
    },
    {
      "cell_type": "code",
      "metadata": {
        "id": "Wu2uOUxhx6XR"
      },
      "source": [
        "#importing \n",
        "import pandas as pd\n",
        "dataframe = pd.DataFrame()"
      ],
      "execution_count": null,
      "outputs": []
    },
    {
      "cell_type": "markdown",
      "metadata": {
        "id": "Qj0DNSa3Oyhl"
      },
      "source": [
        "Pandas is a software library written for the Python programming language for data manipulation and analysis. In particular, it offers data structures and operations for manipulating numerical tables and time series. \n",
        "* For more on pandas: https://pandas.pydata.org/"
      ]
    },
    {
      "cell_type": "markdown",
      "metadata": {
        "id": "MLjZWTH4x6XV"
      },
      "source": [
        "### 6.2 Describing the Data\n",
        "  To view some characteristics of a data frame"
      ]
    },
    {
      "cell_type": "code",
      "metadata": {
        "id": "ISA_W_A4x6XX",
        "colab": {
          "base_uri": "https://localhost:8080/",
          "height": 561
        },
        "outputId": "162979dd-0cd4-4d00-b3e7-17465148f5b9"
      },
      "source": [
        "url = \"https://raw.githubusercontent.com/chrisalbon/simulated_datasets/master/titanic.csv\"\n",
        "df = pd.read_csv(url)\n",
        "# show first two rows\n",
        "print('First two rows: \\n',df.head(2)) \n",
        "# also try for last two rows\n",
        "print('\\n Last two rows: \\n', df.tail(2))\n",
        "\n",
        "# show dimensions\n",
        "print('\\n Dimensions: ',df.shape)\n",
        "# also try\n",
        "print(\"\\n Dimensions: {}\".format(df.shape))\n",
        "\n",
        "# show statistics\n",
        "print('\\n Data statistics are')\n",
        "df.describe()"
      ],
      "execution_count": null,
      "outputs": [
        {
          "output_type": "stream",
          "name": "stdout",
          "text": [
            "First two rows: \n",
            "                            Name PClass   Age     Sex  Survived  SexCode\n",
            "0  Allen, Miss Elisabeth Walton    1st  29.0  female         1        1\n",
            "1   Allison, Miss Helen Loraine    1st   2.0  female         0        1\n",
            "\n",
            " Last two rows: \n",
            "                   Name PClass   Age   Sex  Survived  SexCode\n",
            "1311  Lievens, Mr Rene    3rd  24.0  male         0        0\n",
            "1312    Zimmerman, Leo    3rd  29.0  male         0        0\n",
            "\n",
            " Dimensions:  (1313, 6)\n",
            "\n",
            " Dimensions: (1313, 6)\n",
            "\n",
            " Data statistics are\n"
          ]
        },
        {
          "output_type": "execute_result",
          "data": {
            "text/html": [
              "<div>\n",
              "<style scoped>\n",
              "    .dataframe tbody tr th:only-of-type {\n",
              "        vertical-align: middle;\n",
              "    }\n",
              "\n",
              "    .dataframe tbody tr th {\n",
              "        vertical-align: top;\n",
              "    }\n",
              "\n",
              "    .dataframe thead th {\n",
              "        text-align: right;\n",
              "    }\n",
              "</style>\n",
              "<table border=\"1\" class=\"dataframe\">\n",
              "  <thead>\n",
              "    <tr style=\"text-align: right;\">\n",
              "      <th></th>\n",
              "      <th>Age</th>\n",
              "      <th>Survived</th>\n",
              "      <th>SexCode</th>\n",
              "    </tr>\n",
              "  </thead>\n",
              "  <tbody>\n",
              "    <tr>\n",
              "      <th>count</th>\n",
              "      <td>756.000000</td>\n",
              "      <td>1313.000000</td>\n",
              "      <td>1313.000000</td>\n",
              "    </tr>\n",
              "    <tr>\n",
              "      <th>mean</th>\n",
              "      <td>30.397989</td>\n",
              "      <td>0.342727</td>\n",
              "      <td>0.351866</td>\n",
              "    </tr>\n",
              "    <tr>\n",
              "      <th>std</th>\n",
              "      <td>14.259049</td>\n",
              "      <td>0.474802</td>\n",
              "      <td>0.477734</td>\n",
              "    </tr>\n",
              "    <tr>\n",
              "      <th>min</th>\n",
              "      <td>0.170000</td>\n",
              "      <td>0.000000</td>\n",
              "      <td>0.000000</td>\n",
              "    </tr>\n",
              "    <tr>\n",
              "      <th>25%</th>\n",
              "      <td>21.000000</td>\n",
              "      <td>0.000000</td>\n",
              "      <td>0.000000</td>\n",
              "    </tr>\n",
              "    <tr>\n",
              "      <th>50%</th>\n",
              "      <td>28.000000</td>\n",
              "      <td>0.000000</td>\n",
              "      <td>0.000000</td>\n",
              "    </tr>\n",
              "    <tr>\n",
              "      <th>75%</th>\n",
              "      <td>39.000000</td>\n",
              "      <td>1.000000</td>\n",
              "      <td>1.000000</td>\n",
              "    </tr>\n",
              "    <tr>\n",
              "      <th>max</th>\n",
              "      <td>71.000000</td>\n",
              "      <td>1.000000</td>\n",
              "      <td>1.000000</td>\n",
              "    </tr>\n",
              "  </tbody>\n",
              "</table>\n",
              "</div>"
            ],
            "text/plain": [
              "              Age     Survived      SexCode\n",
              "count  756.000000  1313.000000  1313.000000\n",
              "mean    30.397989     0.342727     0.351866\n",
              "std     14.259049     0.474802     0.477734\n",
              "min      0.170000     0.000000     0.000000\n",
              "25%     21.000000     0.000000     0.000000\n",
              "50%     28.000000     0.000000     0.000000\n",
              "75%     39.000000     1.000000     1.000000\n",
              "max     71.000000     1.000000     1.000000"
            ]
          },
          "metadata": {},
          "execution_count": 3
        }
      ]
    },
    {
      "cell_type": "markdown",
      "metadata": {
        "id": "gZCotT7Nx6Xb"
      },
      "source": [
        "### 6.1.2 Navigating DataFrames\n",
        "  How to select individual data or slices of dataframe"
      ]
    },
    {
      "cell_type": "code",
      "metadata": {
        "scrolled": false,
        "id": "e5wAe_vix6Xc",
        "colab": {
          "base_uri": "https://localhost:8080/"
        },
        "outputId": "62d634fb-6349-4e4a-a2b3-558829d4973b"
      },
      "source": [
        "# select the first row\n",
        "print(df.iloc[0])\n",
        "\n",
        "# select three rows (0,1,2)\n",
        "print('\\n', df.iloc[0:3])\n",
        "\n",
        "# all rows up to and including the fourth row\n",
        "print('\\n', df.iloc[:4])"
      ],
      "execution_count": null,
      "outputs": [
        {
          "output_type": "stream",
          "name": "stdout",
          "text": [
            "Name        Allen, Miss Elisabeth Walton\n",
            "PClass                               1st\n",
            "Age                                   29\n",
            "Sex                               female\n",
            "Survived                               1\n",
            "SexCode                                1\n",
            "Name: 0, dtype: object\n",
            "\n",
            "                                   Name PClass   Age     Sex  Survived  SexCode\n",
            "0         Allen, Miss Elisabeth Walton    1st  29.0  female         1        1\n",
            "1          Allison, Miss Helen Loraine    1st   2.0  female         0        1\n",
            "2  Allison, Mr Hudson Joshua Creighton    1st  30.0    male         0        0\n",
            "\n",
            "                                             Name PClass  ...  Survived SexCode\n",
            "0                   Allen, Miss Elisabeth Walton    1st  ...         1       1\n",
            "1                    Allison, Miss Helen Loraine    1st  ...         0       1\n",
            "2            Allison, Mr Hudson Joshua Creighton    1st  ...         0       0\n",
            "3  Allison, Mrs Hudson JC (Bessie Waldo Daniels)    1st  ...         0       1\n",
            "\n",
            "[4 rows x 6 columns]\n"
          ]
        }
      ]
    },
    {
      "cell_type": "markdown",
      "metadata": {
        "id": "E1adqDL8x6Xe"
      },
      "source": [
        "Data Frames do not need to be numerically indexed. We can set the index of a Data Frame to any value where the value is unique to each row. For example, we can set the index to be passenger names and then select rows using a name:"
      ]
    },
    {
      "cell_type": "code",
      "metadata": {
        "id": "Ppxd9LBTx6Xf",
        "colab": {
          "base_uri": "https://localhost:8080/"
        },
        "outputId": "e9cd64d2-6a69-43c1-9fdf-a5a75054b40d"
      },
      "source": [
        "# set index\n",
        "df = df.set_index(df['Name'])\n",
        "\n",
        "# show row\n",
        "df.loc['Allen, Miss Elisabeth Walton']"
      ],
      "execution_count": null,
      "outputs": [
        {
          "output_type": "execute_result",
          "data": {
            "text/plain": [
              "Name        Allen, Miss Elisabeth Walton\n",
              "PClass                               1st\n",
              "Age                                   29\n",
              "Sex                               female\n",
              "Survived                               1\n",
              "SexCode                                1\n",
              "Name: Allen, Miss Elisabeth Walton, dtype: object"
            ]
          },
          "metadata": {},
          "execution_count": 5
        }
      ]
    },
    {
      "cell_type": "markdown",
      "metadata": {
        "id": "Bw0frWZOx6Xi"
      },
      "source": [
        "### Discussion\n",
        "To select individual rows and slices of rows, pandas provides two methods:\n",
        "* `loc` is useful when the index of the DataFrame is a label (a string)\n",
        "* `iloc` works by looking for the position in the DataFrame. For exmaple, iloc[0] will return the first row regardless of whether the index is an integer or a label.\n",
        "\n",
        "## 6.4 Selecting Rows Based on Conditionals"
      ]
    },
    {
      "cell_type": "code",
      "metadata": {
        "id": "SeBKTl9Qx6Xi",
        "colab": {
          "base_uri": "https://localhost:8080/",
          "height": 143
        },
        "outputId": "3650156e-6901-4609-d8f0-1781cb6e704b"
      },
      "source": [
        "# select top two rows where column 'sex' is 'female'\n",
        "df[df[\"Sex\"]==\"female\"].head(2)\n"
      ],
      "execution_count": null,
      "outputs": [
        {
          "output_type": "execute_result",
          "data": {
            "text/html": [
              "<div>\n",
              "<style scoped>\n",
              "    .dataframe tbody tr th:only-of-type {\n",
              "        vertical-align: middle;\n",
              "    }\n",
              "\n",
              "    .dataframe tbody tr th {\n",
              "        vertical-align: top;\n",
              "    }\n",
              "\n",
              "    .dataframe thead th {\n",
              "        text-align: right;\n",
              "    }\n",
              "</style>\n",
              "<table border=\"1\" class=\"dataframe\">\n",
              "  <thead>\n",
              "    <tr style=\"text-align: right;\">\n",
              "      <th></th>\n",
              "      <th>Name</th>\n",
              "      <th>PClass</th>\n",
              "      <th>Age</th>\n",
              "      <th>Sex</th>\n",
              "      <th>Survived</th>\n",
              "      <th>SexCode</th>\n",
              "    </tr>\n",
              "    <tr>\n",
              "      <th>Name</th>\n",
              "      <th></th>\n",
              "      <th></th>\n",
              "      <th></th>\n",
              "      <th></th>\n",
              "      <th></th>\n",
              "      <th></th>\n",
              "    </tr>\n",
              "  </thead>\n",
              "  <tbody>\n",
              "    <tr>\n",
              "      <th>Allen, Miss Elisabeth Walton</th>\n",
              "      <td>Allen, Miss Elisabeth Walton</td>\n",
              "      <td>1st</td>\n",
              "      <td>29.0</td>\n",
              "      <td>female</td>\n",
              "      <td>1</td>\n",
              "      <td>1</td>\n",
              "    </tr>\n",
              "    <tr>\n",
              "      <th>Allison, Miss Helen Loraine</th>\n",
              "      <td>Allison, Miss Helen Loraine</td>\n",
              "      <td>1st</td>\n",
              "      <td>2.0</td>\n",
              "      <td>female</td>\n",
              "      <td>0</td>\n",
              "      <td>1</td>\n",
              "    </tr>\n",
              "  </tbody>\n",
              "</table>\n",
              "</div>"
            ],
            "text/plain": [
              "                                                      Name  ... SexCode\n",
              "Name                                                        ...        \n",
              "Allen, Miss Elisabeth Walton  Allen, Miss Elisabeth Walton  ...       1\n",
              "Allison, Miss Helen Loraine    Allison, Miss Helen Loraine  ...       1\n",
              "\n",
              "[2 rows x 6 columns]"
            ]
          },
          "metadata": {},
          "execution_count": 6
        }
      ]
    },
    {
      "cell_type": "code",
      "metadata": {
        "id": "vP9FT5Grx6Xl",
        "colab": {
          "base_uri": "https://localhost:8080/",
          "height": 81
        },
        "outputId": "e3f164b0-24e5-498c-99ed-e18fade33e8e"
      },
      "source": [
        "# multiple conditions\n",
        "df[(df['Sex'] == 'female') & (df['Age'] >= 65)]"
      ],
      "execution_count": null,
      "outputs": [
        {
          "output_type": "execute_result",
          "data": {
            "text/html": [
              "<div>\n",
              "<style scoped>\n",
              "    .dataframe tbody tr th:only-of-type {\n",
              "        vertical-align: middle;\n",
              "    }\n",
              "\n",
              "    .dataframe tbody tr th {\n",
              "        vertical-align: top;\n",
              "    }\n",
              "\n",
              "    .dataframe thead th {\n",
              "        text-align: right;\n",
              "    }\n",
              "</style>\n",
              "<table border=\"1\" class=\"dataframe\">\n",
              "  <thead>\n",
              "    <tr style=\"text-align: right;\">\n",
              "      <th></th>\n",
              "      <th>Name</th>\n",
              "      <th>PClass</th>\n",
              "      <th>Age</th>\n",
              "      <th>Sex</th>\n",
              "      <th>Survived</th>\n",
              "      <th>SexCode</th>\n",
              "    </tr>\n",
              "  </thead>\n",
              "  <tbody>\n",
              "    <tr>\n",
              "      <th>73</th>\n",
              "      <td>Crosby, Mrs Edward Gifford (Catherine Elizabet...</td>\n",
              "      <td>1st</td>\n",
              "      <td>69.0</td>\n",
              "      <td>female</td>\n",
              "      <td>1</td>\n",
              "      <td>1</td>\n",
              "    </tr>\n",
              "  </tbody>\n",
              "</table>\n",
              "</div>"
            ],
            "text/plain": [
              "                                                 Name PClass  ...  Survived SexCode\n",
              "73  Crosby, Mrs Edward Gifford (Catherine Elizabet...    1st  ...         1       1\n",
              "\n",
              "[1 rows x 6 columns]"
            ]
          },
          "metadata": {
            "tags": []
          },
          "execution_count": 16
        }
      ]
    },
    {
      "cell_type": "markdown",
      "metadata": {
        "id": "hsDZ8LQgx6Xq"
      },
      "source": [
        "## 6.5 Replacing Values"
      ]
    },
    {
      "cell_type": "code",
      "metadata": {
        "id": "gZw21dfHx6Xr",
        "colab": {
          "base_uri": "https://localhost:8080/"
        },
        "outputId": "6f225f79-fadd-4b14-9c2b-909aad5cbe56"
      },
      "source": [
        "# replace any instance of 'female' with Woman\n",
        "df['Sex'].replace('female', 'Woman').head(2)"
      ],
      "execution_count": null,
      "outputs": [
        {
          "output_type": "execute_result",
          "data": {
            "text/plain": [
              "Name\n",
              "Allen, Miss Elisabeth Walton    Woman\n",
              "Allison, Miss Helen Loraine     Woman\n",
              "Name: Sex, dtype: object"
            ]
          },
          "metadata": {},
          "execution_count": 7
        }
      ]
    },
    {
      "cell_type": "markdown",
      "metadata": {
        "id": "nxaztqmIY-qU"
      },
      "source": [
        "We can replace multiple values at the same time"
      ]
    },
    {
      "cell_type": "code",
      "metadata": {
        "id": "neVUIKPOx6Xw",
        "colab": {
          "base_uri": "https://localhost:8080/"
        },
        "outputId": "f1a0e36d-33d3-486e-8ef5-6730fb9231c9"
      },
      "source": [
        "# replace any instance of 'female' with Woman and 'male' with Man\n",
        "df['Sex'].replace(['female', 'male'], ['Woman', 'Man']).head(5)"
      ],
      "execution_count": null,
      "outputs": [
        {
          "output_type": "execute_result",
          "data": {
            "text/plain": [
              "Name\n",
              "Allen, Miss Elisabeth Walton                     Woman\n",
              "Allison, Miss Helen Loraine                      Woman\n",
              "Allison, Mr Hudson Joshua Creighton                Man\n",
              "Allison, Mrs Hudson JC (Bessie Waldo Daniels)    Woman\n",
              "Allison, Master Hudson Trevor                      Man\n",
              "Name: Sex, dtype: object"
            ]
          },
          "metadata": {},
          "execution_count": 8
        }
      ]
    },
    {
      "cell_type": "markdown",
      "metadata": {
        "id": "stp6-fB9ZZ7L"
      },
      "source": [
        "Try to replace across the entire dataframe object by specifying the whole dataframe instead of a single columm:"
      ]
    },
    {
      "cell_type": "code",
      "metadata": {
        "id": "ho_88Zf7x6X0",
        "colab": {
          "base_uri": "https://localhost:8080/",
          "height": 143
        },
        "outputId": "6d0e7a1c-78da-4e94-92a1-1b45fb3c67ad"
      },
      "source": [
        "df.replace(1, \"One\").head(2)"
      ],
      "execution_count": null,
      "outputs": [
        {
          "output_type": "execute_result",
          "data": {
            "text/html": [
              "<div>\n",
              "<style scoped>\n",
              "    .dataframe tbody tr th:only-of-type {\n",
              "        vertical-align: middle;\n",
              "    }\n",
              "\n",
              "    .dataframe tbody tr th {\n",
              "        vertical-align: top;\n",
              "    }\n",
              "\n",
              "    .dataframe thead th {\n",
              "        text-align: right;\n",
              "    }\n",
              "</style>\n",
              "<table border=\"1\" class=\"dataframe\">\n",
              "  <thead>\n",
              "    <tr style=\"text-align: right;\">\n",
              "      <th></th>\n",
              "      <th>Name</th>\n",
              "      <th>PClass</th>\n",
              "      <th>Age</th>\n",
              "      <th>Sex</th>\n",
              "      <th>Survived</th>\n",
              "      <th>SexCode</th>\n",
              "    </tr>\n",
              "    <tr>\n",
              "      <th>Name</th>\n",
              "      <th></th>\n",
              "      <th></th>\n",
              "      <th></th>\n",
              "      <th></th>\n",
              "      <th></th>\n",
              "      <th></th>\n",
              "    </tr>\n",
              "  </thead>\n",
              "  <tbody>\n",
              "    <tr>\n",
              "      <th>Allen, Miss Elisabeth Walton</th>\n",
              "      <td>Allen, Miss Elisabeth Walton</td>\n",
              "      <td>1st</td>\n",
              "      <td>29</td>\n",
              "      <td>female</td>\n",
              "      <td>One</td>\n",
              "      <td>One</td>\n",
              "    </tr>\n",
              "    <tr>\n",
              "      <th>Allison, Miss Helen Loraine</th>\n",
              "      <td>Allison, Miss Helen Loraine</td>\n",
              "      <td>1st</td>\n",
              "      <td>2</td>\n",
              "      <td>female</td>\n",
              "      <td>0</td>\n",
              "      <td>One</td>\n",
              "    </tr>\n",
              "  </tbody>\n",
              "</table>\n",
              "</div>"
            ],
            "text/plain": [
              "                                                      Name  ... SexCode\n",
              "Name                                                        ...        \n",
              "Allen, Miss Elisabeth Walton  Allen, Miss Elisabeth Walton  ...     One\n",
              "Allison, Miss Helen Loraine    Allison, Miss Helen Loraine  ...     One\n",
              "\n",
              "[2 rows x 6 columns]"
            ]
          },
          "metadata": {},
          "execution_count": 9
        }
      ]
    },
    {
      "cell_type": "markdown",
      "metadata": {
        "id": "15DuSpQux6X5"
      },
      "source": [
        "## 6.6 Renaming Columns\n",
        "We can rename a column in Pandas Dataframe"
      ]
    },
    {
      "cell_type": "code",
      "metadata": {
        "id": "A2D18pYFx6X6",
        "colab": {
          "base_uri": "https://localhost:8080/",
          "height": 143
        },
        "outputId": "3703050e-9cf2-469b-8bb5-5adad4177380"
      },
      "source": [
        "df.rename(columns={'PClass': 'Passenger Class'}).head(2)"
      ],
      "execution_count": null,
      "outputs": [
        {
          "output_type": "execute_result",
          "data": {
            "text/html": [
              "<div>\n",
              "<style scoped>\n",
              "    .dataframe tbody tr th:only-of-type {\n",
              "        vertical-align: middle;\n",
              "    }\n",
              "\n",
              "    .dataframe tbody tr th {\n",
              "        vertical-align: top;\n",
              "    }\n",
              "\n",
              "    .dataframe thead th {\n",
              "        text-align: right;\n",
              "    }\n",
              "</style>\n",
              "<table border=\"1\" class=\"dataframe\">\n",
              "  <thead>\n",
              "    <tr style=\"text-align: right;\">\n",
              "      <th></th>\n",
              "      <th>Name</th>\n",
              "      <th>Passenger Class</th>\n",
              "      <th>Age</th>\n",
              "      <th>Sex</th>\n",
              "      <th>Survived</th>\n",
              "      <th>SexCode</th>\n",
              "    </tr>\n",
              "    <tr>\n",
              "      <th>Name</th>\n",
              "      <th></th>\n",
              "      <th></th>\n",
              "      <th></th>\n",
              "      <th></th>\n",
              "      <th></th>\n",
              "      <th></th>\n",
              "    </tr>\n",
              "  </thead>\n",
              "  <tbody>\n",
              "    <tr>\n",
              "      <th>Allen, Miss Elisabeth Walton</th>\n",
              "      <td>Allen, Miss Elisabeth Walton</td>\n",
              "      <td>1st</td>\n",
              "      <td>29.0</td>\n",
              "      <td>female</td>\n",
              "      <td>1</td>\n",
              "      <td>1</td>\n",
              "    </tr>\n",
              "    <tr>\n",
              "      <th>Allison, Miss Helen Loraine</th>\n",
              "      <td>Allison, Miss Helen Loraine</td>\n",
              "      <td>1st</td>\n",
              "      <td>2.0</td>\n",
              "      <td>female</td>\n",
              "      <td>0</td>\n",
              "      <td>1</td>\n",
              "    </tr>\n",
              "  </tbody>\n",
              "</table>\n",
              "</div>"
            ],
            "text/plain": [
              "                                                      Name  ... SexCode\n",
              "Name                                                        ...        \n",
              "Allen, Miss Elisabeth Walton  Allen, Miss Elisabeth Walton  ...       1\n",
              "Allison, Miss Helen Loraine    Allison, Miss Helen Loraine  ...       1\n",
              "\n",
              "[2 rows x 6 columns]"
            ]
          },
          "metadata": {},
          "execution_count": 10
        }
      ]
    },
    {
      "cell_type": "markdown",
      "metadata": {
        "id": "GAKUIBlXfTvk"
      },
      "source": [
        "Rename multiple columns names at once."
      ]
    },
    {
      "cell_type": "code",
      "metadata": {
        "id": "8EjkrT6Px6X_",
        "colab": {
          "base_uri": "https://localhost:8080/",
          "height": 143
        },
        "outputId": "f15a71cd-5140-4edd-c72b-3cd62802db73"
      },
      "source": [
        "df.rename(columns={'PClass': 'Passenger Class', 'Sex': 'Gender'}).head(2)"
      ],
      "execution_count": null,
      "outputs": [
        {
          "output_type": "execute_result",
          "data": {
            "text/html": [
              "<div>\n",
              "<style scoped>\n",
              "    .dataframe tbody tr th:only-of-type {\n",
              "        vertical-align: middle;\n",
              "    }\n",
              "\n",
              "    .dataframe tbody tr th {\n",
              "        vertical-align: top;\n",
              "    }\n",
              "\n",
              "    .dataframe thead th {\n",
              "        text-align: right;\n",
              "    }\n",
              "</style>\n",
              "<table border=\"1\" class=\"dataframe\">\n",
              "  <thead>\n",
              "    <tr style=\"text-align: right;\">\n",
              "      <th></th>\n",
              "      <th>Name</th>\n",
              "      <th>Passenger Class</th>\n",
              "      <th>Age</th>\n",
              "      <th>Gender</th>\n",
              "      <th>Survived</th>\n",
              "      <th>SexCode</th>\n",
              "    </tr>\n",
              "    <tr>\n",
              "      <th>Name</th>\n",
              "      <th></th>\n",
              "      <th></th>\n",
              "      <th></th>\n",
              "      <th></th>\n",
              "      <th></th>\n",
              "      <th></th>\n",
              "    </tr>\n",
              "  </thead>\n",
              "  <tbody>\n",
              "    <tr>\n",
              "      <th>Allen, Miss Elisabeth Walton</th>\n",
              "      <td>Allen, Miss Elisabeth Walton</td>\n",
              "      <td>1st</td>\n",
              "      <td>29.0</td>\n",
              "      <td>female</td>\n",
              "      <td>1</td>\n",
              "      <td>1</td>\n",
              "    </tr>\n",
              "    <tr>\n",
              "      <th>Allison, Miss Helen Loraine</th>\n",
              "      <td>Allison, Miss Helen Loraine</td>\n",
              "      <td>1st</td>\n",
              "      <td>2.0</td>\n",
              "      <td>female</td>\n",
              "      <td>0</td>\n",
              "      <td>1</td>\n",
              "    </tr>\n",
              "  </tbody>\n",
              "</table>\n",
              "</div>"
            ],
            "text/plain": [
              "                                                      Name  ... SexCode\n",
              "Name                                                        ...        \n",
              "Allen, Miss Elisabeth Walton  Allen, Miss Elisabeth Walton  ...       1\n",
              "Allison, Miss Helen Loraine    Allison, Miss Helen Loraine  ...       1\n",
              "\n",
              "[2 rows x 6 columns]"
            ]
          },
          "metadata": {},
          "execution_count": 11
        }
      ]
    },
    {
      "cell_type": "markdown",
      "metadata": {
        "id": "L1qoiukjx6YH"
      },
      "source": [
        "### 6.7 Finding the Min, Max, Sum, Average, and Count"
      ]
    },
    {
      "cell_type": "code",
      "metadata": {
        "id": "XUcmj04_x6YH",
        "colab": {
          "base_uri": "https://localhost:8080/"
        },
        "outputId": "6192ccf0-a2e2-4d9b-9890-d3dc52a9c3c9"
      },
      "source": [
        "print('Maximum: ' , df['Age'].max())\n",
        "print('Minimum: ',(df['Age'].min()))\n",
        "print('Mean: {}'.format(df['Age'].mean()))\n",
        "print('Sum: {}'.format(df['Age'].sum()))\n",
        "print('Count: {}'.format(df['Age'].count()))"
      ],
      "execution_count": null,
      "outputs": [
        {
          "output_type": "stream",
          "name": "stdout",
          "text": [
            "Maximum:  71.0\n",
            "Minimum:  0.17\n",
            "Mean: 30.397989417989415\n",
            "Sum: 22980.88\n",
            "Count: 756\n"
          ]
        }
      ]
    },
    {
      "cell_type": "markdown",
      "metadata": {
        "id": "CQvTmySmx6YM"
      },
      "source": [
        "## 6.8 Finding Unique Values"
      ]
    },
    {
      "cell_type": "code",
      "metadata": {
        "id": "2lt0t-brx6YN",
        "colab": {
          "base_uri": "https://localhost:8080/"
        },
        "outputId": "1289b24b-1450-4020-d604-58e6054fa5b3"
      },
      "source": [
        "# unique will return an array of all unique values in a column\n",
        "df['Sex'].unique()"
      ],
      "execution_count": null,
      "outputs": [
        {
          "output_type": "execute_result",
          "data": {
            "text/plain": [
              "array(['female', 'male'], dtype=object)"
            ]
          },
          "metadata": {
            "tags": []
          },
          "execution_count": 27
        }
      ]
    },
    {
      "cell_type": "code",
      "metadata": {
        "id": "Iiqr1FhnEg8z",
        "colab": {
          "base_uri": "https://localhost:8080/"
        },
        "outputId": "fecf4b32-f61f-4365-b4cd-d6f3901c9347"
      },
      "source": [
        "df['Sex'].nunique()"
      ],
      "execution_count": null,
      "outputs": [
        {
          "output_type": "execute_result",
          "data": {
            "text/plain": [
              "2"
            ]
          },
          "metadata": {
            "tags": []
          },
          "execution_count": 28
        }
      ]
    },
    {
      "cell_type": "code",
      "metadata": {
        "id": "03Or1x6tx6YP",
        "colab": {
          "base_uri": "https://localhost:8080/"
        },
        "outputId": "5b707eb5-5ccd-456b-bc72-2e806ea712a7"
      },
      "source": [
        "# value_counts will display all unique values with the number of times each value appears\n",
        "df['Sex'].value_counts()"
      ],
      "execution_count": null,
      "outputs": [
        {
          "output_type": "execute_result",
          "data": {
            "text/plain": [
              "male      851\n",
              "female    462\n",
              "Name: Sex, dtype: int64"
            ]
          },
          "metadata": {
            "tags": []
          },
          "execution_count": 29
        }
      ]
    },
    {
      "cell_type": "markdown",
      "metadata": {
        "id": "qSCvz9w7x6YT"
      },
      "source": [
        "## 6.9 Handling Missing Values"
      ]
    },
    {
      "cell_type": "code",
      "metadata": {
        "id": "c-ehNJhSx6YT",
        "colab": {
          "base_uri": "https://localhost:8080/",
          "height": 142
        },
        "outputId": "6b2bf89a-ee2b-4a0c-f90a-972618752c3b"
      },
      "source": [
        "# select missing values, show 2 rows\n",
        "df[df['Age'].isnull()].head(2)"
      ],
      "execution_count": null,
      "outputs": [
        {
          "output_type": "execute_result",
          "data": {
            "text/html": [
              "<div>\n",
              "<style scoped>\n",
              "    .dataframe tbody tr th:only-of-type {\n",
              "        vertical-align: middle;\n",
              "    }\n",
              "\n",
              "    .dataframe tbody tr th {\n",
              "        vertical-align: top;\n",
              "    }\n",
              "\n",
              "    .dataframe thead th {\n",
              "        text-align: right;\n",
              "    }\n",
              "</style>\n",
              "<table border=\"1\" class=\"dataframe\">\n",
              "  <thead>\n",
              "    <tr style=\"text-align: right;\">\n",
              "      <th></th>\n",
              "      <th>Name</th>\n",
              "      <th>PClass</th>\n",
              "      <th>Age</th>\n",
              "      <th>Sex</th>\n",
              "      <th>Survived</th>\n",
              "      <th>SexCode</th>\n",
              "    </tr>\n",
              "    <tr>\n",
              "      <th>Name</th>\n",
              "      <th></th>\n",
              "      <th></th>\n",
              "      <th></th>\n",
              "      <th></th>\n",
              "      <th></th>\n",
              "      <th></th>\n",
              "    </tr>\n",
              "  </thead>\n",
              "  <tbody>\n",
              "    <tr>\n",
              "      <th>Aubert, Mrs Leontine Pauline</th>\n",
              "      <td>Aubert, Mrs Leontine Pauline</td>\n",
              "      <td>1st</td>\n",
              "      <td>NaN</td>\n",
              "      <td>female</td>\n",
              "      <td>1</td>\n",
              "      <td>1</td>\n",
              "    </tr>\n",
              "    <tr>\n",
              "      <th>Barkworth, Mr Algernon H</th>\n",
              "      <td>Barkworth, Mr Algernon H</td>\n",
              "      <td>1st</td>\n",
              "      <td>NaN</td>\n",
              "      <td>male</td>\n",
              "      <td>1</td>\n",
              "      <td>0</td>\n",
              "    </tr>\n",
              "  </tbody>\n",
              "</table>\n",
              "</div>"
            ],
            "text/plain": [
              "                                                      Name  ... SexCode\n",
              "Name                                                        ...        \n",
              "Aubert, Mrs Leontine Pauline  Aubert, Mrs Leontine Pauline  ...       1\n",
              "Barkworth, Mr Algernon H          Barkworth, Mr Algernon H  ...       0\n",
              "\n",
              "[2 rows x 6 columns]"
            ]
          },
          "metadata": {
            "tags": []
          },
          "execution_count": 27
        }
      ]
    },
    {
      "cell_type": "markdown",
      "metadata": {
        "id": "2_GDyrjwx6YZ"
      },
      "source": [
        "### 6.10 Deleting a Column"
      ]
    },
    {
      "cell_type": "code",
      "metadata": {
        "id": "XHtsOTX-x6Yb",
        "colab": {
          "base_uri": "https://localhost:8080/",
          "height": 112
        },
        "outputId": "944afa0f-af24-4725-93ca-868377bc2870"
      },
      "source": [
        "# axis=1 means the column axis\n",
        "df.drop('Age', axis=1).head(2)"
      ],
      "execution_count": null,
      "outputs": [
        {
          "output_type": "execute_result",
          "data": {
            "text/html": [
              "<div>\n",
              "<style scoped>\n",
              "    .dataframe tbody tr th:only-of-type {\n",
              "        vertical-align: middle;\n",
              "    }\n",
              "\n",
              "    .dataframe tbody tr th {\n",
              "        vertical-align: top;\n",
              "    }\n",
              "\n",
              "    .dataframe thead th {\n",
              "        text-align: right;\n",
              "    }\n",
              "</style>\n",
              "<table border=\"1\" class=\"dataframe\">\n",
              "  <thead>\n",
              "    <tr style=\"text-align: right;\">\n",
              "      <th></th>\n",
              "      <th>Name</th>\n",
              "      <th>PClass</th>\n",
              "      <th>Sex</th>\n",
              "      <th>Survived</th>\n",
              "      <th>SexCode</th>\n",
              "    </tr>\n",
              "  </thead>\n",
              "  <tbody>\n",
              "    <tr>\n",
              "      <th>0</th>\n",
              "      <td>Allen, Miss Elisabeth Walton</td>\n",
              "      <td>1st</td>\n",
              "      <td>female</td>\n",
              "      <td>1</td>\n",
              "      <td>1</td>\n",
              "    </tr>\n",
              "    <tr>\n",
              "      <th>1</th>\n",
              "      <td>Allison, Miss Helen Loraine</td>\n",
              "      <td>1st</td>\n",
              "      <td>female</td>\n",
              "      <td>0</td>\n",
              "      <td>1</td>\n",
              "    </tr>\n",
              "  </tbody>\n",
              "</table>\n",
              "</div>"
            ],
            "text/plain": [
              "                           Name PClass     Sex  Survived  SexCode\n",
              "0  Allen, Miss Elisabeth Walton    1st  female         1        1\n",
              "1   Allison, Miss Helen Loraine    1st  female         0        1"
            ]
          },
          "metadata": {
            "tags": []
          },
          "execution_count": 33
        }
      ]
    },
    {
      "cell_type": "markdown",
      "metadata": {
        "id": "9HIPqX4bhW7e"
      },
      "source": [
        "##In Lab Unsolved Problem\n",
        "\n",
        "Calculate statistical parameter variance , standard deviation, kurtosis, skewness for the whole dataframe."
      ]
    },
    {
      "cell_type": "markdown",
      "metadata": {
        "id": "1deUCooUh_Sq"
      },
      "source": [
        "##Post Lab Unsolved Problem\n",
        "Apply a custom function \"uppercase\" to change the case of all elements in \"Name\" column in the same dataframe."
      ]
    }
  ]
}