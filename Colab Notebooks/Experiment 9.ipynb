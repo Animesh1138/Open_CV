{
  "nbformat": 4,
  "nbformat_minor": 0,
  "metadata": {
    "colab": {
      "name": "Exp6.ipynb",
      "provenance": []
    },
    "kernelspec": {
      "name": "python3",
      "display_name": "Python 3"
    },
    "language_info": {
      "name": "python"
    }
  },
  "cells": [
    {
      "cell_type": "code",
      "execution_count": null,
      "metadata": {
        "id": "G8QzZ1fNH0so"
      },
      "outputs": [],
      "source": [
        "import numpy as np\n",
        "import matplotlib.pyplot as plt\n",
        "import scipy\n",
        "import matplotlib.figure as fig\n",
        "from scipy import signal\n",
        "f = 1.0  # Hz, signal frequency\n",
        "fs = 10.0 # Hz, sampling rate (ie. >= 2*f) \n",
        "#t = np.linspace(0, 0.5, 2000)\n",
        "ts = np.arange(-1,1+1/fs,1/fs) # sample points\n",
        "t = np.arange(-1,1+1/fs,1/fs) # sample interval, symmetric for convenience later\n",
        "x = np.sin(2*np.pi*f*t)\n",
        "#plt.subplot(1, 2, 1)\n",
        "plt.plot(ts, x, linewidth=3, label='SineWave')\n",
        "plt.show()\n",
        "plt.plot(t, x, 'o', linewidth=3, label='Sample of SineWave')\n",
        "plt.xlabel('Samples', fontsize=15)\n",
        "plt.ylabel('Amplitude', fontsize=15)\n",
        "plt.legend(fontsize=10, loc='upper right')\n",
        "plt.show()\n",
        "\n",
        "\n",
        "\n",
        "\n",
        "t = np.linspace(-1,1,100) # redefine this here for convenience\n",
        "num_coeffs=len(ts) \n",
        "sm=0\n",
        "for k in range(-num_coeffs,num_coeffs): # since function is real, need both sides\n",
        "   sm+=np.sin(2*np.pi*(k/fs))*np.sinc( k - fs * t)\n",
        "#plt.subplot(1, 2, 2)\n",
        "plt.plot( ts, np.sin(2*np.pi*ts), label='Reconstructed SineWave')\n",
        "plt.plot(t,sm,'o', label=' Samples')\n",
        "plt.xlabel('Time.', fontsize=15)\n",
        "plt.ylabel('Amplitude', fontsize=15)\n",
        "plt.legend(fontsize=10, loc='upper right')\n",
        "\n",
        "\n",
        "\n",
        "\n",
        "plt.show()\n",
        "k=0\n",
        "plt.plot (t,np.sinc( k - fs * t), \n",
        "         t,np.sinc( k+1 - fs * t),'--',k/fs,1,'o',(k)/fs,0,'o',\n",
        "         t,np.sinc( k-1 - fs * t),'--',k/fs,1,'o',(-k)/fs,0,'o'\n",
        ")\n",
        "plt.hlines(0,-1,1)\n",
        "plt.vlines(0,-.2,1)\n",
        "plt.annotate('sample value goes here',\n",
        "            xy=(0,1),\n",
        "            xytext=(-1+.1,1.1),\n",
        "            arrowprops={'facecolor':'red','shrink':0.05},\n",
        "            )\n",
        "plt.annotate('no interference here',\n",
        "            xy=(0,0),\n",
        "            xytext=(-1+.1,0.5),\n",
        "            arrowprops={'facecolor':'green','shrink':0.05},\n",
        "            )\n",
        "\n",
        "\n",
        "\n",
        "\n",
        "plt.show()\n",
        "k=np.array(sorted(set((t*fs).astype(int)))) # sorted coefficient list\n",
        "\n",
        "plt.plot(t,(np.sin(2*np.pi*(k[:,None]/fs))*np.sinc(k[:,None]-fs*t)).T,'--', # individual whittaker functions\n",
        "        t,(np.sin(2*np.pi*(k[:,None]/fs))*np.sinc(k[:,None]-fs*t)).sum(axis=0),'k-', # whittaker interpolant\n",
        "     k/fs,np.sin(2*np.pi*k/fs),'ob')# samples\n",
        "#plt.set_xlabel('time',fontsize=14)\n",
        "plt.axis((-1.1,1.1,-1.1,1.1));\n"
      ]
    }
  ]
}